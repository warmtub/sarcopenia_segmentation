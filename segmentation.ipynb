{
 "cells": [
  {
   "cell_type": "code",
   "execution_count": 1,
   "metadata": {},
   "outputs": [],
   "source": [
    "#pip install pydicom\n",
    "#pip uninstall -y enum34\n",
    "#pip install labelme==3.16.7\n",
    "import cv2\n",
    "import json\n",
    "import labelme\n",
    "import os\n",
    "import PIL\n",
    "import shutil\n",
    "import sys\n",
    "import matplotlib.pyplot as plt\n",
    "import numpy as np\n",
    "from glob import glob\n",
    "from labelme import utils\n",
    "from pydicom import dcmread\n",
    "from PIL import Image"
   ]
  },
  {
   "cell_type": "code",
   "execution_count": 44,
   "metadata": {},
   "outputs": [
    {
     "name": "stdout",
     "output_type": "stream",
     "text": [
      "{'5. Rt eretor spinae muscle': 5, '8. Lt trans abd,int and ext obl': 8, '9. Rt rectus abdominus muscle': 9, '2. Lt psoas major mucle': 2, '1. Rt psoas major mucle': 1, '3. Rt quardratus lumborum muscle': 3, '4. Lt quardratus lumborum muscle': 4, '6. Lt eretor spinae muscle': 6, '7. Rt trans abd,int and ext obl': 7, '10. Lt rectus abdominus muscle': 10, '11.L3 Vertebral body': 11}\n",
      "['0. background', '1. Rt psoas major mucle', '2. Lt psoas major mucle', '3. Rt quardratus lumborum muscle', '4. Lt quardratus lumborum muscle', '5. Rt eretor spinae muscle', '6. Lt eretor spinae muscle', '7. Rt trans abd,int and ext obl', '8. Lt trans abd,int and ext obl', '9. Rt rectus abdominus muscle', '10. Lt rectus abdominus muscle', '11.L3 Vertebral body']\n"
     ]
    }
   ],
   "source": [
    "json_file_name = 'sarcopenia_data/SARCOPANIA0010_1.json'\n",
    "n_classes = 12\n",
    "label_name_to_value = {}\n",
    "json_data = json.load(open(json_file_name))\n",
    "value_to_label_name = ['0. background' for _ in range(n_classes)]\n",
    "\n",
    "#print(json_data[\"shapes\"])\n",
    "for shape in json_data[\"shapes\"]:\n",
    "    label_name = shape[\"label\"]\n",
    "    #label_name_to_value[label_name] = int(int(label_name.split('.')[0])*255/11)\n",
    "    number = int(int(label_name.split('.')[0]))\n",
    "    label_name_to_value[label_name] = number\n",
    "    value_to_label_name[number] = label_name\n",
    "    \n",
    "print(label_name_to_value)\n",
    "print(value_to_label_name)\n",
    "with open('classes.txt', 'w') as f:\n",
    "    for label in value_to_label_name:\n",
    "        f.write(\"%s\\n\" % label)"
   ]
  },
  {
   "cell_type": "code",
   "execution_count": null,
   "metadata": {},
   "outputs": [],
   "source": [
    "file_list = glob('sarcopenia_data/*.dcm')\n",
    "folder_list = ['train', 'valid', 'test']\n",
    "ratio = [8, 1, 1]\n",
    "\n",
    "for folder in folder_list:\n",
    "    folder_path = os.path.join('sarcopenia_data', folder)\n",
    "    if os.path.exists(folder_path):\n",
    "        if os.path.isdir(folder_path):\n",
    "            shutil.rmtree(folder_path)\n",
    "    os.mkdir(folder_path)\n",
    "    print(f'create folder {folder_path}')\n"
   ]
  },
  {
   "cell_type": "code",
   "execution_count": 148,
   "metadata": {
    "collapsed": true,
    "jupyter": {
     "outputs_hidden": true
    }
   },
   "outputs": [
    {
     "name": "stdout",
     "output_type": "stream",
     "text": [
      "sarcopenia_data/all/SARCOPANIA0020.dcm\n",
      "sarcopenia_data/all/SARCOPANIA0060.dcm\n",
      "sarcopenia_data/all/SARCOPANIA0040.dcm\n",
      "sarcopenia_data/all/SARCOPANIA0090.dcm\n",
      "sarcopenia_data/all/SARCOPANIA0100.dcm\n",
      "sarcopenia_data/all/SARCOPANIA0110.dcm\n",
      "sarcopenia_data/all/SARCOPANIA0050.dcm\n",
      "sarcopenia_data/all/SARCOPANIA0130.dcm\n",
      "sarcopenia_data/all/SARCOPANIA0140.dcm\n",
      "sarcopenia_data/all/SARCOPANIA0080.dcm\n",
      "sarcopenia_data/all/SARCOPANIA0120.dcm\n",
      "sarcopenia_data/all/SARCOPANIA0150.dcm\n",
      "sarcopenia_data/all/SARCOPANIA0170.dcm\n",
      "sarcopenia_data/all/SARCOPANIA0200.dcm\n",
      "sarcopenia_data/all/SARCOPANIA0030.dcm\n",
      "sarcopenia_data/all/SARCOPANIA0190.dcm\n",
      "sarcopenia_data/all/SARCOPANIA0070.dcm\n",
      "sarcopenia_data/all/SARCOPANIA0210.dcm\n",
      "sarcopenia_data/all/SARCOPANIA0250.dcm\n",
      "sarcopenia_data/all/SARCOPANIA0230.dcm\n",
      "sarcopenia_data/all/SARCOPANIA0260.dcm\n",
      "sarcopenia_data/all/SARCOPANIA0280.dcm\n",
      "sarcopenia_data/all/SARCOPANIA0330.dcm\n",
      "sarcopenia_data/all/SARCOPANIA0240.dcm\n",
      "sarcopenia_data/all/SARCOPANIA0300.dcm\n",
      "sarcopenia_data/all/SARCOPANIA0160.dcm\n",
      "sarcopenia_data/all/SARCOPANIA0310.dcm\n",
      "sarcopenia_data/all/SARCOPANIA0350.dcm\n",
      "sarcopenia_data/all/SARCOPANIA0360.dcm\n",
      "sarcopenia_data/all/SARCOPANIA0370.dcm\n",
      "sarcopenia_data/all/SARCOPANIA0270.dcm\n",
      "sarcopenia_data/all/SARCOPANIA0400.dcm\n",
      "sarcopenia_data/all/SARCOPANIA0340.dcm\n",
      "sarcopenia_data/all/SARCOPANIA0290.dcm\n",
      "sarcopenia_data/all/SARCOPANIA0380.dcm\n",
      "sarcopenia_data/all/SARCOPANIA0390.dcm\n",
      "sarcopenia_data/all/SARCOPANIA0410.dcm\n",
      "sarcopenia_data/all/SARCOPANIA0490.dcm\n",
      "sarcopenia_data/all/SARCOPANIA0010.dcm\n",
      "sarcopenia_data/all/SARCOPANIA0460.dcm\n",
      "sarcopenia_data/all/SARCOPANIA0430.dcm\n",
      "sarcopenia_data/all/SARCOPANIA0500.dcm\n",
      "sarcopenia_data/all/SARCOPANIA0450.dcm\n",
      "sarcopenia_data/all/SARCOPANIA0470.dcm\n",
      "sarcopenia_data/all/SARCOPANIA0420.dcm\n",
      "sarcopenia_data/all/SARCOPANIA0480.dcm\n",
      "sarcopenia_data/all/SARCOPANIA0440.dcm\n"
     ]
    }
   ],
   "source": [
    "for i, dcm_file_name in enumerate(glob('sarcopenia_data/*.dcm')):\n",
    "    ds = dcmread(dcm_file_name)\n",
    "    img = ds.pixel_array\n",
    "    json_file_name = dcm_file_name.split('.')[0] + '_1.json'\n",
    "    json_data = json.load(open(json_file_name))\n",
    "    \n",
    "    #img = utils.img_b64_to_array(json_data['imageData'])\n",
    "    label = utils.shapes_to_label(img.shape, json_data['shapes'], label_name_to_value)\n",
    "    #print(label)\n",
    "    #captions = ['%d: %s' % (l, name) for l, name in enumerate(lbl_names)]\n",
    "    gt_img = utils.draw_label(label, ds.pixel_array)\n",
    "\n",
    "    folder = 'train'\n",
    "    if i > len(file_list)*sum(ratio[:2])/sum(ratio):\n",
    "        folder = 'test'\n",
    "    elif i > len(file_list)*sum(ratio[:1])/sum(ratio):\n",
    "        folder = 'valid'\n",
    "    folder = 'all'\n",
    "    \n",
    "    #img_file_name = os.path.join(dcm_file_name.split('/')[0], folder, dcm_file_name.split('/')[-1].split('.')[0]+'.png')\n",
    "    img_file_name = os.path.join(dcm_file_name.split('/')[0], folder, dcm_file_name.split('/')[-1].split('.')[0]+'.dcm')\n",
    "    print(img_file_name)\n",
    "    #plt.imshow(img, cmap=plt.cm.gray)\n",
    "    #plt.imsave(img_file_name, img)\n",
    "    shutil.copyfile(dcm_file_name, img_file_name)\n",
    "    gt_file_name = os.path.join(dcm_file_name.split('/')[0], folder, dcm_file_name.split('/')[-1].split('.')[0]+'_gt.png')\n",
    "    #plt.imshow(gt_img, cmap=plt.cm.gray)\n",
    "    #print(label)\n",
    "    #plt.imsave(gt_file_name, label)\n",
    "    cv2.imwrite(gt_file_name, label)\n",
    "    \n",
    "    #print(label)\n",
    "    #plt.show()\n",
    "    \n",
    "    #break\n"
   ]
  },
  {
   "cell_type": "code",
   "execution_count": 9,
   "metadata": {
    "collapsed": true,
    "jupyter": {
     "outputs_hidden": true
    }
   },
   "outputs": [
    {
     "name": "stdout",
     "output_type": "stream",
     "text": [
      "(512, 512)\n"
     ]
    }
   ],
   "source": [
    "ds = dcmread('sarcopenia_data/SARCOPANIA0010.dcm')\n",
    "img = ds.pixel_array\n",
    "print(img.shape)\n",
    "plt.imsave('SARCOPANIA0010_1.png', img, cmap=plt.cm.gray)"
   ]
  },
  {
   "cell_type": "code",
   "execution_count": 8,
   "metadata": {
    "collapsed": true,
    "jupyter": {
     "outputs_hidden": true
    }
   },
   "outputs": [
    {
     "data": {
      "text/plain": [
       "'./../sarcopenia_data/train/SARCOPANIA0190'"
      ]
     },
     "execution_count": 8,
     "metadata": {},
     "output_type": "execute_result"
    }
   ],
   "source": [
    "a='./../sarcopenia_data/train/SARCOPANIA0190.png'\n",
    "a.split('.png')[0]"
   ]
  },
  {
   "cell_type": "code",
   "execution_count": 16,
   "metadata": {
    "collapsed": true,
    "jupyter": {
     "outputs_hidden": true
    }
   },
   "outputs": [
    {
     "name": "stdout",
     "output_type": "stream",
     "text": [
      "(512, 512)\n",
      "True\n",
      "29378\n",
      "[9 9 9 ... 6 6 6]\n",
      "(12,)\n"
     ]
    }
   ],
   "source": [
    "from PIL import Image\n",
    "GT = Image.open('sarcopenia_data/train/SARCOPANIA0020_gt.png')\n",
    "print(GT.size)\n",
    "GT = np.array(GT)\n",
    "print(GT.any())\n",
    "index = np.nonzero(GT)\n",
    "print(len(index[0]))\n",
    "print(GT[index])"
   ]
  },
  {
   "cell_type": "code",
   "execution_count": null,
   "metadata": {},
   "outputs": [],
   "source": [
    "import torch\n",
    "from Image_Segmentation.network import U_Net, AttU_Net\n",
    "from Image_Segmentation.evaluation import get_DC\n",
    "\n",
    "net = AttU_Net(img_ch=3, output_ch=12).to('cuda')\n",
    "net.load_state_dict(torch.load('Image_Segmentation/models/AttU_Net-f4-199-0.863.pkl'))\n",
    "            \n",
    "net.train(False)\n",
    "#net.eval()"
   ]
  },
  {
   "cell_type": "code",
   "execution_count": 70,
   "metadata": {},
   "outputs": [
    {
     "name": "stdout",
     "output_type": "stream",
     "text": [
      "Dice score 0.9784464141679214\n",
      "Dice score 0.9693461376574026\n",
      "Dice score 0.9722895660156377\n",
      "Dice score 0.9789975513677969\n",
      "Dice score 0.9786086245544668\n",
      "Dice score 0.9723681546019853\n",
      "Dice score 0.9815902604794033\n",
      "Dice score 0.9851297349859531\n",
      "Dice score 0.9856006721322393\n",
      "Dice score 0.983946975502775\n",
      "Dice score 0.981976978322021\n",
      "Dice score 0.9768822565282947\n",
      "Dice score 0.9786837013867831\n",
      "Dice score 0.9835504882862747\n",
      "Dice score 0.9764226695240491\n",
      "Dice score 0.98151187377201\n",
      "Dice score 0.9862612165014708\n",
      "Dice score 0.9718833924807713\n",
      "Dice score 0.9791809043097033\n",
      "Dice score 0.9736837577900747\n",
      "Dice score 0.9847517865995629\n",
      "Dice score 0.9792491441448558\n",
      "Dice score 0.9850412296911352\n",
      "Dice score 0.9564373978505926\n",
      "Dice score 0.9814371760946191\n",
      "Dice score 0.9800838974873158\n",
      "Dice score 0.9788008217457765\n",
      "Dice score 0.9836863314280023\n",
      "Dice score 0.9790633671888819\n",
      "Dice score 0.9786397819228045\n",
      "Dice score 0.9718877652475945\n",
      "Dice score 0.974233077260697\n",
      "Dice score 0.9840786360959713\n",
      "Dice score 0.9504265594928121\n",
      "Dice score 0.9729395061025647\n",
      "Dice score 0.9866715592383893\n",
      "Dice score 0.9761026389916236\n",
      "Dice score 0.9738729410307658\n",
      "Dice score 0.9814652650559226\n",
      "Dice score 0.9836413323886642\n",
      "Dice score 0.9747978387768319\n",
      "Dice score 0.9540638876933504\n",
      "Dice score 0.9746052432920987\n",
      "Dice score 0.9695571567803185\n",
      "Dice score 0.9845870074105626\n",
      "Dice score 0.9803758930020213\n",
      "Dice score 0.985306593497097\n"
     ]
    },
    {
     "data": {
      "image/png": "[encoded data removed]",
      "text/plain": [
       "<Figure size 432x288 with 5 Axes>"
      ]
     },
     "metadata": {
      "needs_background": "light"
     },
     "output_type": "display_data"
    }
   ],
   "source": [
    "import json\n",
    "import torch.nn.functional as F\n",
    "from glob import glob\n",
    "from torchvision import transforms as T\n",
    "\n",
    "import logging\n",
    "logging.basicConfig(level=logging.DEBUG,\n",
    "                    format='%(asctime)s %(levelname)s %(message)s',\n",
    "                    datefmt='%Y-%m-%d %H:%M',\n",
    "                    handlers=[logging.FileHandler('my.log', 'w', 'utf-8'), ])\n",
    " \n",
    "\n",
    "count = 0\n",
    "for file in glob('sarcopenia_data/train_valid/*.dcm'):\n",
    "#for file in glob('sarcopenia_data/valid/*_gt.png'):\n",
    "#for file in glob('sarcopenia_data/test/*_gt.png'):\n",
    "    image_name = file.split('.')[0]\n",
    "    \n",
    "    image_path = image_name+'.dcm'\n",
    "    #gt_path = image_name+'_gt.png'\n",
    "\n",
    "    ds = dcmread(image_path)\n",
    "    image = ds.pixel_array\n",
    "    image_h, image_w = image.shape\n",
    "    image = image.astype('float64')\n",
    "    intercept = ds.RescaleIntercept\n",
    "    wc = 50\n",
    "    ww = 250\n",
    "    UL = wc + ww/2\n",
    "    LL = wc - ww/2\n",
    "    \"\"\"\n",
    "    try:\n",
    "        wc = ds.WindowCenter[0]\n",
    "        ww = ds.WindowWidth[0]\n",
    "        UL = wc + ww/2\n",
    "        LL = wc - ww/2\n",
    "    except:\n",
    "        wc = ds.WindowCenter\n",
    "        ww = ds.WindowWidth\n",
    "        UL = wc + ww/2\n",
    "        LL = wc - ww/2\n",
    "    \"\"\"\n",
    "    #print(f'window param {wc}, {ww}')\n",
    "    slope = ds.RescaleSlope\n",
    "    image -= (-intercept+LL)\n",
    "    image[image<0] = 0\n",
    "    image[image>(UL-LL)] = UL-LL\n",
    "    image *= 255.0/image.max()\n",
    "    image = image.astype('uint8')\n",
    "    image = Image.fromarray(image)\n",
    "    image_src = image.convert('RGB')\n",
    "    \n",
    "    #image_gt = Image.open(gt_path)\n",
    "\n",
    "    Transform = []\n",
    "    Transform.append(T.ToTensor())\n",
    "    Transform = T.Compose(Transform)\n",
    "\n",
    "    image = Transform(image_src)\n",
    "\n",
    "    Norm_ = T.Normalize((0.5, 0.5, 0.5), (0.5, 0.5, 0.5))   \n",
    "    image = Norm_(image)\n",
    "\n",
    "    image = image.unsqueeze(0).to('cuda')\n",
    "\n",
    "    pred = torch.sigmoid(net(image))\n",
    "    pred = pred.squeeze(0).detach().cpu()\n",
    "    \n",
    "    GT_path = image_path.split('.dcm')[0] + '_1.json'\n",
    "    #GT = Image.open(GT_path)\n",
    "    json_data = json.load(open(GT_path))\n",
    "    gt_label = utils.shapes_to_label(np.array(image_src).shape, json_data['shapes'], label_name_to_value)\n",
    "    gt_img = utils.draw_label(gt_label, np.array(image_src))\n",
    "\n",
    "    gt_label = torch.tensor(np.array(gt_label), dtype=torch.int64)\n",
    "    gt_label = torch.nn.functional.one_hot(gt_label, n_classes).to(torch.float).permute(2,0,1)\n",
    "    print(f'Dice score {get_DC(pred, gt_label)}')\n",
    "    pred = np.argmax(pred, axis=0)\n",
    "    \n",
    "    shapes = []\n",
    "    for i in range(1, n_classes):\n",
    "        mask = pred[pred==i]\n",
    "        layer = np.array(pred==i, np.uint8)*255 \n",
    "        contours, _ = cv2.findContours(layer, cv2.RETR_TREE, cv2.CHAIN_APPROX_SIMPLE)\n",
    "        for contour in contours:\n",
    "            contour = cv2.approxPolyDP(contour, 3, True).reshape(-1, 2).tolist()\n",
    "            if len(contour) < 3: continue\n",
    "            shape_data = {\"label\": value_to_label_name[i],\n",
    "                          \"points\": contour,\n",
    "                          \"group_id\": None,\n",
    "                          \"shape_type\": \"polygon\",\n",
    "                          \"flags\": {},\n",
    "                         }\n",
    "            shapes.append(shape_data)\n",
    "        #plt.show()\n",
    "        \n",
    "    json_data = {\"version\": \"4.5.6\",\n",
    "                 \"flag\": {},\n",
    "                 \"imagePath\": image_name.split('/')[-1]+'.png',\n",
    "                 \"imageData\": None,\n",
    "                 \"imageHeight\": image_h,\n",
    "                 \"imageWidth\": image_w,\n",
    "                 \"shapes\": shapes,\n",
    "                }\n",
    "    with open(image_name+'.json', 'w') as outfile:\n",
    "        json.dump(json_data, outfile)\n",
    "        \n",
    "    \n",
    "    fig, (ax1, ax2, ax3) = plt.subplots(1, 3)\n",
    "    fig.tight_layout()\n",
    "    #print(image.shape)\n",
    "    im1 = ax1.imshow(np.array(image_src))\n",
    "    #print(image_src.size)\n",
    "    #image_src.save(image_name+'.png')\n",
    "    ax1.set_axis_off()\n",
    "\n",
    "    im2 = ax2.imshow(gt_img)\n",
    "    fig.colorbar(im2, ax=ax2, fraction=0.046)\n",
    "    ax2.set_axis_off()\n",
    "\n",
    "    im3 = ax3.imshow(pred)\n",
    "    ax3.set_axis_off()\n",
    "    fig.colorbar(im3, ax=ax3, fraction=0.046)\n",
    "    plt.show()\n",
    "    #print(f'Dice score {get_DC(pred, T.ToTensor()(image_gt))}')\n",
    "    #break\n",
    "    #count += 1\n",
    "    #if count > 5:\n",
    "    #    break"
   ]
  },
  {
   "cell_type": "code",
   "execution_count": 124,
   "metadata": {},
   "outputs": [
    {
     "name": "stdout",
     "output_type": "stream",
     "text": [
      "tensor([[3, 3, 2, 4, 0, 1, 4],\n",
      "        [4, 4, 4, 1, 1, 3, 1],\n",
      "        [3, 3, 1, 1, 4, 3, 4],\n",
      "        [2, 3, 4, 3, 4, 2, 3]])\n",
      "torch.Size([4, 7, 5])\n",
      "tensor([[3, 3, 2, 4, 0, 1, 4],\n",
      "        [4, 4, 4, 1, 1, 3, 1],\n",
      "        [3, 3, 1, 1, 4, 3, 4],\n",
      "        [2, 3, 4, 3, 4, 2, 3]])\n"
     ]
    }
   ],
   "source": [
    "n = 5\n",
    "indices = torch.randint(0, n, size=(4,7))\n",
    "one_hot = torch.nn.functional.one_hot(indices, n) # size=(4,7,n)\n",
    "print(indices)\n",
    "print(one_hot.shape)\n",
    "print(np.argmax(one_hot, axis=2))"
   ]
  },
  {
   "cell_type": "code",
   "execution_count": null,
   "metadata": {},
   "outputs": [],
   "source": []
  }
 ],
 "metadata": {
  "kernelspec": {
   "display_name": "Python 3",
   "language": "python",
   "name": "python3"
  },
  "language_info": {
   "codemirror_mode": {
    "name": "ipython",
    "version": 3
   },
   "file_extension": ".py",
   "mimetype": "text/x-python",
   "name": "python",
   "nbconvert_exporter": "python",
   "pygments_lexer": "ipython3",
   "version": "3.6.9"
  }
 },
 "nbformat": 4,
 "nbformat_minor": 4
}
