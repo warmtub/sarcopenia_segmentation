{
 "cells": [
  {
   "cell_type": "code",
   "execution_count": 1,
   "metadata": {},
   "outputs": [],
   "source": [
    "#pip install pydicom\n",
    "#pip uninstall -y enum34\n",
    "#pip install labelme==3.16.7\n",
    "import cv2\n",
    "import json\n",
    "import labelme\n",
    "import os\n",
    "import PIL\n",
    "import shutil\n",
    "import sys\n",
    "import matplotlib.pyplot as plt\n",
    "import numpy as np\n",
    "from glob import glob\n",
    "from labelme import utils\n",
    "from pydicom import dcmread\n",
    "from PIL import Image"
   ]
  },
  {
   "cell_type": "code",
   "execution_count": 2,
   "metadata": {
    "collapsed": true,
    "jupyter": {
     "outputs_hidden": true,
     "source_hidden": true
    }
   },
   "outputs": [
    {
     "name": "stdout",
     "output_type": "stream",
     "text": [
      "sarcopenia_data/SARCOPANIA0010_1.json\n",
      "{'5. Rt eretor spinae muscle': 5, '8. Lt trans abd,int and ext obl': 8, '9. Rt rectus abdominus muscle': 9, '2. Lt psoas major mucle': 2, '1. Rt psoas major mucle': 1, '3. Rt quardratus lumborum muscle': 3, '4. Lt quardratus lumborum muscle': 4, '6. Lt eretor spinae muscle': 6, '7. Rt trans abd,int and ext obl': 7, '10. Lt rectus abdominus muscle': 10, '11.L3 Vertebral body': 11}\n"
     ]
    }
   ],
   "source": [
    "json_file_name = 'sarcopenia_data/SARCOPANIA0010_1.json'\n",
    "print(json_file_name)\n",
    "label_name_to_value = {}\n",
    "json_data = json.load(open(json_file_name))\n",
    "\n",
    "for shape in json_data[\"shapes\"]:\n",
    "    label_name = shape[\"label\"]\n",
    "    #label_name_to_value[label_name] = int(int(label_name.split('.')[0])*255/11)\n",
    "    label_name_to_value[label_name] = int(int(label_name.split('.')[0]))\n",
    "    \n",
    "print(label_name_to_value)"
   ]
  },
  {
   "cell_type": "code",
   "execution_count": null,
   "metadata": {
    "jupyter": {
     "source_hidden": true
    }
   },
   "outputs": [],
   "source": [
    "file_list = glob('sarcopenia_data/*.dcm')\n",
    "folder_list = ['train', 'valid', 'test']\n",
    "ratio = [8, 1, 1]\n",
    "\n",
    "for folder in folder_list:\n",
    "    folder_path = os.path.join('sarcopenia_data', folder)\n",
    "    if os.path.exists(folder_path):\n",
    "        if os.path.isdir(folder_path):\n",
    "            shutil.rmtree(folder_path)\n",
    "    os.mkdir(folder_path)\n",
    "    print(f'create folder {folder_path}')\n"
   ]
  },
  {
   "cell_type": "code",
   "execution_count": 148,
   "metadata": {
    "collapsed": true,
    "jupyter": {
     "outputs_hidden": true,
     "source_hidden": true
    }
   },
   "outputs": [
    {
     "name": "stdout",
     "output_type": "stream",
     "text": [
      "sarcopenia_data/all/SARCOPANIA0020.dcm\n",
      "sarcopenia_data/all/SARCOPANIA0060.dcm\n",
      "sarcopenia_data/all/SARCOPANIA0040.dcm\n",
      "sarcopenia_data/all/SARCOPANIA0090.dcm\n",
      "sarcopenia_data/all/SARCOPANIA0100.dcm\n",
      "sarcopenia_data/all/SARCOPANIA0110.dcm\n",
      "sarcopenia_data/all/SARCOPANIA0050.dcm\n",
      "sarcopenia_data/all/SARCOPANIA0130.dcm\n",
      "sarcopenia_data/all/SARCOPANIA0140.dcm\n",
      "sarcopenia_data/all/SARCOPANIA0080.dcm\n",
      "sarcopenia_data/all/SARCOPANIA0120.dcm\n",
      "sarcopenia_data/all/SARCOPANIA0150.dcm\n",
      "sarcopenia_data/all/SARCOPANIA0170.dcm\n",
      "sarcopenia_data/all/SARCOPANIA0200.dcm\n",
      "sarcopenia_data/all/SARCOPANIA0030.dcm\n",
      "sarcopenia_data/all/SARCOPANIA0190.dcm\n",
      "sarcopenia_data/all/SARCOPANIA0070.dcm\n",
      "sarcopenia_data/all/SARCOPANIA0210.dcm\n",
      "sarcopenia_data/all/SARCOPANIA0250.dcm\n",
      "sarcopenia_data/all/SARCOPANIA0230.dcm\n",
      "sarcopenia_data/all/SARCOPANIA0260.dcm\n",
      "sarcopenia_data/all/SARCOPANIA0280.dcm\n",
      "sarcopenia_data/all/SARCOPANIA0330.dcm\n",
      "sarcopenia_data/all/SARCOPANIA0240.dcm\n",
      "sarcopenia_data/all/SARCOPANIA0300.dcm\n",
      "sarcopenia_data/all/SARCOPANIA0160.dcm\n",
      "sarcopenia_data/all/SARCOPANIA0310.dcm\n",
      "sarcopenia_data/all/SARCOPANIA0350.dcm\n",
      "sarcopenia_data/all/SARCOPANIA0360.dcm\n",
      "sarcopenia_data/all/SARCOPANIA0370.dcm\n",
      "sarcopenia_data/all/SARCOPANIA0270.dcm\n",
      "sarcopenia_data/all/SARCOPANIA0400.dcm\n",
      "sarcopenia_data/all/SARCOPANIA0340.dcm\n",
      "sarcopenia_data/all/SARCOPANIA0290.dcm\n",
      "sarcopenia_data/all/SARCOPANIA0380.dcm\n",
      "sarcopenia_data/all/SARCOPANIA0390.dcm\n",
      "sarcopenia_data/all/SARCOPANIA0410.dcm\n",
      "sarcopenia_data/all/SARCOPANIA0490.dcm\n",
      "sarcopenia_data/all/SARCOPANIA0010.dcm\n",
      "sarcopenia_data/all/SARCOPANIA0460.dcm\n",
      "sarcopenia_data/all/SARCOPANIA0430.dcm\n",
      "sarcopenia_data/all/SARCOPANIA0500.dcm\n",
      "sarcopenia_data/all/SARCOPANIA0450.dcm\n",
      "sarcopenia_data/all/SARCOPANIA0470.dcm\n",
      "sarcopenia_data/all/SARCOPANIA0420.dcm\n",
      "sarcopenia_data/all/SARCOPANIA0480.dcm\n",
      "sarcopenia_data/all/SARCOPANIA0440.dcm\n"
     ]
    }
   ],
   "source": [
    "for i, dcm_file_name in enumerate(glob('sarcopenia_data/*.dcm')):\n",
    "    ds = dcmread(dcm_file_name)\n",
    "    img = ds.pixel_array\n",
    "    json_file_name = dcm_file_name.split('.')[0] + '_1.json'\n",
    "    json_data = json.load(open(json_file_name))\n",
    "    \n",
    "    #img = utils.img_b64_to_array(json_data['imageData'])\n",
    "    label = utils.shapes_to_label(img.shape, json_data['shapes'], label_name_to_value)\n",
    "    #print(label)\n",
    "    #captions = ['%d: %s' % (l, name) for l, name in enumerate(lbl_names)]\n",
    "    gt_img = utils.draw_label(label, ds.pixel_array)\n",
    "\n",
    "    folder = 'train'\n",
    "    if i > len(file_list)*sum(ratio[:2])/sum(ratio):\n",
    "        folder = 'test'\n",
    "    elif i > len(file_list)*sum(ratio[:1])/sum(ratio):\n",
    "        folder = 'valid'\n",
    "    folder = 'all'\n",
    "    \n",
    "    #img_file_name = os.path.join(dcm_file_name.split('/')[0], folder, dcm_file_name.split('/')[-1].split('.')[0]+'.png')\n",
    "    img_file_name = os.path.join(dcm_file_name.split('/')[0], folder, dcm_file_name.split('/')[-1].split('.')[0]+'.dcm')\n",
    "    print(img_file_name)\n",
    "    #plt.imshow(img, cmap=plt.cm.gray)\n",
    "    #plt.imsave(img_file_name, img)\n",
    "    shutil.copyfile(dcm_file_name, img_file_name)\n",
    "    gt_file_name = os.path.join(dcm_file_name.split('/')[0], folder, dcm_file_name.split('/')[-1].split('.')[0]+'_gt.png')\n",
    "    #plt.imshow(gt_img, cmap=plt.cm.gray)\n",
    "    #print(label)\n",
    "    #plt.imsave(gt_file_name, label)\n",
    "    cv2.imwrite(gt_file_name, label)\n",
    "    \n",
    "    #print(label)\n",
    "    #plt.show()\n",
    "    \n",
    "    #break\n"
   ]
  },
  {
   "cell_type": "code",
   "execution_count": 9,
   "metadata": {
    "collapsed": true,
    "jupyter": {
     "outputs_hidden": true,
     "source_hidden": true
    }
   },
   "outputs": [
    {
     "name": "stdout",
     "output_type": "stream",
     "text": [
      "(512, 512)\n"
     ]
    }
   ],
   "source": [
    "ds = dcmread('sarcopenia_data/SARCOPANIA0010.dcm')\n",
    "img = ds.pixel_array\n",
    "print(img.shape)\n",
    "plt.imsave('SARCOPANIA0010_1.png', img, cmap=plt.cm.gray)"
   ]
  },
  {
   "cell_type": "code",
   "execution_count": 8,
   "metadata": {
    "collapsed": true,
    "jupyter": {
     "outputs_hidden": true,
     "source_hidden": true
    }
   },
   "outputs": [
    {
     "data": {
      "text/plain": [
       "'./../sarcopenia_data/train/SARCOPANIA0190'"
      ]
     },
     "execution_count": 8,
     "metadata": {},
     "output_type": "execute_result"
    }
   ],
   "source": [
    "a='./../sarcopenia_data/train/SARCOPANIA0190.png'\n",
    "a.split('.png')[0]"
   ]
  },
  {
   "cell_type": "code",
   "execution_count": 16,
   "metadata": {
    "collapsed": true,
    "jupyter": {
     "outputs_hidden": true,
     "source_hidden": true
    }
   },
   "outputs": [
    {
     "name": "stdout",
     "output_type": "stream",
     "text": [
      "(512, 512)\n",
      "True\n",
      "29378\n",
      "[9 9 9 ... 6 6 6]\n",
      "(12,)\n"
     ]
    }
   ],
   "source": [
    "from PIL import Image\n",
    "GT = Image.open('sarcopenia_data/train/SARCOPANIA0020_gt.png')\n",
    "print(GT.size)\n",
    "GT = np.array(GT)\n",
    "print(GT.any())\n",
    "index = np.nonzero(GT)\n",
    "print(len(index[0]))\n",
    "print(GT[index])"
   ]
  },
  {
   "cell_type": "code",
   "execution_count": 11,
   "metadata": {
    "collapsed": true,
    "jupyter": {
     "outputs_hidden": true
    }
   },
   "outputs": [
    {
     "data": {
      "text/plain": [
       "AttU_Net(\n",
       "  (Maxpool): MaxPool2d(kernel_size=2, stride=2, padding=0, dilation=1, ceil_mode=False)\n",
       "  (Conv1): conv_block(\n",
       "    (conv): Sequential(\n",
       "      (0): Conv2d(3, 64, kernel_size=(3, 3), stride=(1, 1), padding=(1, 1))\n",
       "      (1): BatchNorm2d(64, eps=1e-05, momentum=0.1, affine=True, track_running_stats=True)\n",
       "      (2): ReLU(inplace=True)\n",
       "      (3): Conv2d(64, 64, kernel_size=(3, 3), stride=(1, 1), padding=(1, 1))\n",
       "      (4): BatchNorm2d(64, eps=1e-05, momentum=0.1, affine=True, track_running_stats=True)\n",
       "      (5): ReLU(inplace=True)\n",
       "    )\n",
       "  )\n",
       "  (Conv2): conv_block(\n",
       "    (conv): Sequential(\n",
       "      (0): Conv2d(64, 128, kernel_size=(3, 3), stride=(1, 1), padding=(1, 1))\n",
       "      (1): BatchNorm2d(128, eps=1e-05, momentum=0.1, affine=True, track_running_stats=True)\n",
       "      (2): ReLU(inplace=True)\n",
       "      (3): Conv2d(128, 128, kernel_size=(3, 3), stride=(1, 1), padding=(1, 1))\n",
       "      (4): BatchNorm2d(128, eps=1e-05, momentum=0.1, affine=True, track_running_stats=True)\n",
       "      (5): ReLU(inplace=True)\n",
       "    )\n",
       "  )\n",
       "  (Conv3): conv_block(\n",
       "    (conv): Sequential(\n",
       "      (0): Conv2d(128, 256, kernel_size=(3, 3), stride=(1, 1), padding=(1, 1))\n",
       "      (1): BatchNorm2d(256, eps=1e-05, momentum=0.1, affine=True, track_running_stats=True)\n",
       "      (2): ReLU(inplace=True)\n",
       "      (3): Conv2d(256, 256, kernel_size=(3, 3), stride=(1, 1), padding=(1, 1))\n",
       "      (4): BatchNorm2d(256, eps=1e-05, momentum=0.1, affine=True, track_running_stats=True)\n",
       "      (5): ReLU(inplace=True)\n",
       "    )\n",
       "  )\n",
       "  (Conv4): conv_block(\n",
       "    (conv): Sequential(\n",
       "      (0): Conv2d(256, 512, kernel_size=(3, 3), stride=(1, 1), padding=(1, 1))\n",
       "      (1): BatchNorm2d(512, eps=1e-05, momentum=0.1, affine=True, track_running_stats=True)\n",
       "      (2): ReLU(inplace=True)\n",
       "      (3): Conv2d(512, 512, kernel_size=(3, 3), stride=(1, 1), padding=(1, 1))\n",
       "      (4): BatchNorm2d(512, eps=1e-05, momentum=0.1, affine=True, track_running_stats=True)\n",
       "      (5): ReLU(inplace=True)\n",
       "    )\n",
       "  )\n",
       "  (Conv5): conv_block(\n",
       "    (conv): Sequential(\n",
       "      (0): Conv2d(512, 1024, kernel_size=(3, 3), stride=(1, 1), padding=(1, 1))\n",
       "      (1): BatchNorm2d(1024, eps=1e-05, momentum=0.1, affine=True, track_running_stats=True)\n",
       "      (2): ReLU(inplace=True)\n",
       "      (3): Conv2d(1024, 1024, kernel_size=(3, 3), stride=(1, 1), padding=(1, 1))\n",
       "      (4): BatchNorm2d(1024, eps=1e-05, momentum=0.1, affine=True, track_running_stats=True)\n",
       "      (5): ReLU(inplace=True)\n",
       "    )\n",
       "  )\n",
       "  (Up5): up_conv(\n",
       "    (up): Sequential(\n",
       "      (0): Upsample(scale_factor=2.0, mode=nearest)\n",
       "      (1): Conv2d(1024, 512, kernel_size=(3, 3), stride=(1, 1), padding=(1, 1))\n",
       "      (2): BatchNorm2d(512, eps=1e-05, momentum=0.1, affine=True, track_running_stats=True)\n",
       "      (3): ReLU(inplace=True)\n",
       "    )\n",
       "  )\n",
       "  (Att5): Attention_block(\n",
       "    (W_g): Sequential(\n",
       "      (0): Conv2d(512, 256, kernel_size=(1, 1), stride=(1, 1))\n",
       "      (1): BatchNorm2d(256, eps=1e-05, momentum=0.1, affine=True, track_running_stats=True)\n",
       "    )\n",
       "    (W_x): Sequential(\n",
       "      (0): Conv2d(512, 256, kernel_size=(1, 1), stride=(1, 1))\n",
       "      (1): BatchNorm2d(256, eps=1e-05, momentum=0.1, affine=True, track_running_stats=True)\n",
       "    )\n",
       "    (psi): Sequential(\n",
       "      (0): Conv2d(256, 1, kernel_size=(1, 1), stride=(1, 1))\n",
       "      (1): BatchNorm2d(1, eps=1e-05, momentum=0.1, affine=True, track_running_stats=True)\n",
       "      (2): Sigmoid()\n",
       "    )\n",
       "    (relu): ReLU(inplace=True)\n",
       "  )\n",
       "  (Up_conv5): conv_block(\n",
       "    (conv): Sequential(\n",
       "      (0): Conv2d(1024, 512, kernel_size=(3, 3), stride=(1, 1), padding=(1, 1))\n",
       "      (1): BatchNorm2d(512, eps=1e-05, momentum=0.1, affine=True, track_running_stats=True)\n",
       "      (2): ReLU(inplace=True)\n",
       "      (3): Conv2d(512, 512, kernel_size=(3, 3), stride=(1, 1), padding=(1, 1))\n",
       "      (4): BatchNorm2d(512, eps=1e-05, momentum=0.1, affine=True, track_running_stats=True)\n",
       "      (5): ReLU(inplace=True)\n",
       "    )\n",
       "  )\n",
       "  (Up4): up_conv(\n",
       "    (up): Sequential(\n",
       "      (0): Upsample(scale_factor=2.0, mode=nearest)\n",
       "      (1): Conv2d(512, 256, kernel_size=(3, 3), stride=(1, 1), padding=(1, 1))\n",
       "      (2): BatchNorm2d(256, eps=1e-05, momentum=0.1, affine=True, track_running_stats=True)\n",
       "      (3): ReLU(inplace=True)\n",
       "    )\n",
       "  )\n",
       "  (Att4): Attention_block(\n",
       "    (W_g): Sequential(\n",
       "      (0): Conv2d(256, 128, kernel_size=(1, 1), stride=(1, 1))\n",
       "      (1): BatchNorm2d(128, eps=1e-05, momentum=0.1, affine=True, track_running_stats=True)\n",
       "    )\n",
       "    (W_x): Sequential(\n",
       "      (0): Conv2d(256, 128, kernel_size=(1, 1), stride=(1, 1))\n",
       "      (1): BatchNorm2d(128, eps=1e-05, momentum=0.1, affine=True, track_running_stats=True)\n",
       "    )\n",
       "    (psi): Sequential(\n",
       "      (0): Conv2d(128, 1, kernel_size=(1, 1), stride=(1, 1))\n",
       "      (1): BatchNorm2d(1, eps=1e-05, momentum=0.1, affine=True, track_running_stats=True)\n",
       "      (2): Sigmoid()\n",
       "    )\n",
       "    (relu): ReLU(inplace=True)\n",
       "  )\n",
       "  (Up_conv4): conv_block(\n",
       "    (conv): Sequential(\n",
       "      (0): Conv2d(512, 256, kernel_size=(3, 3), stride=(1, 1), padding=(1, 1))\n",
       "      (1): BatchNorm2d(256, eps=1e-05, momentum=0.1, affine=True, track_running_stats=True)\n",
       "      (2): ReLU(inplace=True)\n",
       "      (3): Conv2d(256, 256, kernel_size=(3, 3), stride=(1, 1), padding=(1, 1))\n",
       "      (4): BatchNorm2d(256, eps=1e-05, momentum=0.1, affine=True, track_running_stats=True)\n",
       "      (5): ReLU(inplace=True)\n",
       "    )\n",
       "  )\n",
       "  (Up3): up_conv(\n",
       "    (up): Sequential(\n",
       "      (0): Upsample(scale_factor=2.0, mode=nearest)\n",
       "      (1): Conv2d(256, 128, kernel_size=(3, 3), stride=(1, 1), padding=(1, 1))\n",
       "      (2): BatchNorm2d(128, eps=1e-05, momentum=0.1, affine=True, track_running_stats=True)\n",
       "      (3): ReLU(inplace=True)\n",
       "    )\n",
       "  )\n",
       "  (Att3): Attention_block(\n",
       "    (W_g): Sequential(\n",
       "      (0): Conv2d(128, 64, kernel_size=(1, 1), stride=(1, 1))\n",
       "      (1): BatchNorm2d(64, eps=1e-05, momentum=0.1, affine=True, track_running_stats=True)\n",
       "    )\n",
       "    (W_x): Sequential(\n",
       "      (0): Conv2d(128, 64, kernel_size=(1, 1), stride=(1, 1))\n",
       "      (1): BatchNorm2d(64, eps=1e-05, momentum=0.1, affine=True, track_running_stats=True)\n",
       "    )\n",
       "    (psi): Sequential(\n",
       "      (0): Conv2d(64, 1, kernel_size=(1, 1), stride=(1, 1))\n",
       "      (1): BatchNorm2d(1, eps=1e-05, momentum=0.1, affine=True, track_running_stats=True)\n",
       "      (2): Sigmoid()\n",
       "    )\n",
       "    (relu): ReLU(inplace=True)\n",
       "  )\n",
       "  (Up_conv3): conv_block(\n",
       "    (conv): Sequential(\n",
       "      (0): Conv2d(256, 128, kernel_size=(3, 3), stride=(1, 1), padding=(1, 1))\n",
       "      (1): BatchNorm2d(128, eps=1e-05, momentum=0.1, affine=True, track_running_stats=True)\n",
       "      (2): ReLU(inplace=True)\n",
       "      (3): Conv2d(128, 128, kernel_size=(3, 3), stride=(1, 1), padding=(1, 1))\n",
       "      (4): BatchNorm2d(128, eps=1e-05, momentum=0.1, affine=True, track_running_stats=True)\n",
       "      (5): ReLU(inplace=True)\n",
       "    )\n",
       "  )\n",
       "  (Up2): up_conv(\n",
       "    (up): Sequential(\n",
       "      (0): Upsample(scale_factor=2.0, mode=nearest)\n",
       "      (1): Conv2d(128, 64, kernel_size=(3, 3), stride=(1, 1), padding=(1, 1))\n",
       "      (2): BatchNorm2d(64, eps=1e-05, momentum=0.1, affine=True, track_running_stats=True)\n",
       "      (3): ReLU(inplace=True)\n",
       "    )\n",
       "  )\n",
       "  (Att2): Attention_block(\n",
       "    (W_g): Sequential(\n",
       "      (0): Conv2d(64, 32, kernel_size=(1, 1), stride=(1, 1))\n",
       "      (1): BatchNorm2d(32, eps=1e-05, momentum=0.1, affine=True, track_running_stats=True)\n",
       "    )\n",
       "    (W_x): Sequential(\n",
       "      (0): Conv2d(64, 32, kernel_size=(1, 1), stride=(1, 1))\n",
       "      (1): BatchNorm2d(32, eps=1e-05, momentum=0.1, affine=True, track_running_stats=True)\n",
       "    )\n",
       "    (psi): Sequential(\n",
       "      (0): Conv2d(32, 1, kernel_size=(1, 1), stride=(1, 1))\n",
       "      (1): BatchNorm2d(1, eps=1e-05, momentum=0.1, affine=True, track_running_stats=True)\n",
       "      (2): Sigmoid()\n",
       "    )\n",
       "    (relu): ReLU(inplace=True)\n",
       "  )\n",
       "  (Up_conv2): conv_block(\n",
       "    (conv): Sequential(\n",
       "      (0): Conv2d(128, 64, kernel_size=(3, 3), stride=(1, 1), padding=(1, 1))\n",
       "      (1): BatchNorm2d(64, eps=1e-05, momentum=0.1, affine=True, track_running_stats=True)\n",
       "      (2): ReLU(inplace=True)\n",
       "      (3): Conv2d(64, 64, kernel_size=(3, 3), stride=(1, 1), padding=(1, 1))\n",
       "      (4): BatchNorm2d(64, eps=1e-05, momentum=0.1, affine=True, track_running_stats=True)\n",
       "      (5): ReLU(inplace=True)\n",
       "    )\n",
       "  )\n",
       "  (Conv_1x1): Conv2d(64, 12, kernel_size=(1, 1), stride=(1, 1))\n",
       ")"
      ]
     },
     "execution_count": 11,
     "metadata": {},
     "output_type": "execute_result"
    }
   ],
   "source": [
    "import torch\n",
    "from Image_Segmentation.network import U_Net, AttU_Net\n",
    "from Image_Segmentation.evaluation import get_DC\n",
    "\n",
    "net = AttU_Net(img_ch=3, output_ch=12).to('cuda')\n",
    "net.load_state_dict(torch.load('Image_Segmentation/models/AttU_Net-14-1.907.pkl'))\n",
    "            \n",
    "net.train(False)\n",
    "#net.eval()"
   ]
  },
  {
   "cell_type": "code",
   "execution_count": 22,
   "metadata": {},
   "outputs": [
    {
     "name": "stdout",
     "output_type": "stream",
     "text": [
      "window param 56, 250\n",
      "Dice score 0.9746600812792866\n",
      "torch.Size([512, 512])\n",
      "torch.Size([512, 512])\n",
      "torch.Size([234887])\n"
     ]
    },
    {
     "data": {
      "image/png": "[encoded data removed]",
      "text/plain": [
       "<Figure size 432x288 with 1 Axes>"
      ]
     },
     "metadata": {
      "needs_background": "light"
     },
     "output_type": "display_data"
    },
    {
     "name": "stdout",
     "output_type": "stream",
     "text": [
      "torch.Size([512, 512])\n",
      "torch.Size([512, 512])\n",
      "torch.Size([1571])\n"
     ]
    },
    {
     "data": {
      "image/png": "[encoded data removed]",
      "text/plain": [
       "<Figure size 432x288 with 1 Axes>"
      ]
     },
     "metadata": {
      "needs_background": "light"
     },
     "output_type": "display_data"
    },
    {
     "name": "stdout",
     "output_type": "stream",
     "text": [
      "torch.Size([512, 512])\n",
      "torch.Size([512, 512])\n",
      "torch.Size([1442])\n"
     ]
    },
    {
     "data": {
      "image/png": "[encoded data removed]",
      "text/plain": [
       "<Figure size 432x288 with 1 Axes>"
      ]
     },
     "metadata": {
      "needs_background": "light"
     },
     "output_type": "display_data"
    },
    {
     "name": "stdout",
     "output_type": "stream",
     "text": [
      "torch.Size([512, 512])\n",
      "torch.Size([512, 512])\n",
      "torch.Size([617])\n"
     ]
    },
    {
     "data": {
      "image/png": "[encoded data removed]",
      "text/plain": [
       "<Figure size 432x288 with 1 Axes>"
      ]
     },
     "metadata": {
      "needs_background": "light"
     },
     "output_type": "display_data"
    },
    {
     "name": "stdout",
     "output_type": "stream",
     "text": [
      "torch.Size([512, 512])\n",
      "torch.Size([512, 512])\n",
      "torch.Size([519])\n"
     ]
    },
    {
     "data": {
      "image/png": "[encoded data removed]",
      "text/plain": [
       "<Figure size 432x288 with 1 Axes>"
      ]
     },
     "metadata": {
      "needs_background": "light"
     },
     "output_type": "display_data"
    },
    {
     "name": "stdout",
     "output_type": "stream",
     "text": [
      "torch.Size([512, 512])\n",
      "torch.Size([512, 512])\n",
      "torch.Size([3706])\n"
     ]
    },
    {
     "data": {
      "image/png": "[encoded data removed]",
      "text/plain": [
       "<Figure size 432x288 with 1 Axes>"
      ]
     },
     "metadata": {
      "needs_background": "light"
     },
     "output_type": "display_data"
    },
    {
     "name": "stdout",
     "output_type": "stream",
     "text": [
      "torch.Size([512, 512])\n",
      "torch.Size([512, 512])\n",
      "torch.Size([4811])\n"
     ]
    },
    {
     "data": {
      "image/png": "[encoded data removed]",
      "text/plain": [
       "<Figure size 432x288 with 1 Axes>"
      ]
     },
     "metadata": {
      "needs_background": "light"
     },
     "output_type": "display_data"
    },
    {
     "name": "stdout",
     "output_type": "stream",
     "text": [
      "torch.Size([512, 512])\n",
      "torch.Size([512, 512])\n",
      "torch.Size([5421])\n"
     ]
    },
    {
     "data": {
      "image/png": "[encoded data removed]",
      "text/plain": [
       "<Figure size 432x288 with 1 Axes>"
      ]
     },
     "metadata": {
      "needs_background": "light"
     },
     "output_type": "display_data"
    },
    {
     "name": "stdout",
     "output_type": "stream",
     "text": [
      "torch.Size([512, 512])\n",
      "torch.Size([512, 512])\n",
      "torch.Size([5142])\n"
     ]
    },
    {
     "data": {
      "image/png": "[encoded data removed]",
      "text/plain": [
       "<Figure size 432x288 with 1 Axes>"
      ]
     },
     "metadata": {
      "needs_background": "light"
     },
     "output_type": "display_data"
    },
    {
     "name": "stdout",
     "output_type": "stream",
     "text": [
      "torch.Size([512, 512])\n",
      "torch.Size([512, 512])\n",
      "torch.Size([0])\n"
     ]
    },
    {
     "data": {
      "image/png": "[encoded data removed]",
      "text/plain": [
       "<Figure size 432x288 with 1 Axes>"
      ]
     },
     "metadata": {
      "needs_background": "light"
     },
     "output_type": "display_data"
    },
    {
     "name": "stdout",
     "output_type": "stream",
     "text": [
      "torch.Size([512, 512])\n",
      "torch.Size([512, 512])\n",
      "torch.Size([373])\n"
     ]
    },
    {
     "data": {
      "image/png": "[encoded data removed]",
      "text/plain": [
       "<Figure size 432x288 with 1 Axes>"
      ]
     },
     "metadata": {
      "needs_background": "light"
     },
     "output_type": "display_data"
    },
    {
     "name": "stdout",
     "output_type": "stream",
     "text": [
      "torch.Size([512, 512])\n",
      "torch.Size([512, 512])\n",
      "torch.Size([3655])\n"
     ]
    },
    {
     "data": {
      "image/png": "[encoded data removed]",
      "text/plain": [
       "<Figure size 432x288 with 1 Axes>"
      ]
     },
     "metadata": {
      "needs_background": "light"
     },
     "output_type": "display_data"
    },
    {
     "data": {
      "image/png": "[encoded data removed]",
      "text/plain": [
       "<Figure size 432x288 with 5 Axes>"
      ]
     },
     "metadata": {
      "needs_background": "light"
     },
     "output_type": "display_data"
    }
   ],
   "source": [
    "import torch.nn.functional as F\n",
    "from glob import glob\n",
    "from torchvision import transforms as T\n",
    "\n",
    "n_classes = 12\n",
    "\n",
    "for file in glob('sarcopenia_data/all/*.dcm'):\n",
    "#for file in glob('sarcopenia_data/valid/*_gt.png'):\n",
    "#for file in glob('sarcopenia_data/test/*_gt.png'):\n",
    "    image_name = file.split('.')[0]\n",
    "    \n",
    "    image_path = image_name+'.dcm'\n",
    "    gt_path = image_name+'_gt.png'\n",
    "\n",
    "    ds = dcmread(image_path)\n",
    "    image = ds.pixel_array\n",
    "    h, w = image.shape\n",
    "    image = image.astype('float64')\n",
    "    intercept = ds.RescaleIntercept\n",
    "    wc = 50\n",
    "    ww = 250\n",
    "    UL = wc + ww/2\n",
    "    LL = wc - ww/2\n",
    "    \"\"\"\n",
    "    try:\n",
    "        wc = ds.WindowCenter[0]\n",
    "        ww = ds.WindowWidth[0]\n",
    "        UL = wc + ww/2\n",
    "        LL = wc - ww/2\n",
    "    except:\n",
    "        wc = ds.WindowCenter\n",
    "        ww = ds.WindowWidth\n",
    "        UL = wc + ww/2\n",
    "        LL = wc - ww/2\n",
    "    \"\"\"\n",
    "    print(f'window param {wc}, {ww}')\n",
    "    slope = ds.RescaleSlope\n",
    "    image -= (-intercept+LL)\n",
    "    image[image<0] = 0\n",
    "    image[image>(UL-LL)] = UL-LL\n",
    "    image *= 255.0/image.max()\n",
    "    image = image.astype('uint8')\n",
    "    image = Image.fromarray(image)\n",
    "    image_src = image.convert('RGB')\n",
    "    \n",
    "    image_gt = Image.open(gt_path)\n",
    "\n",
    "    Transform = []\n",
    "    Transform.append(T.ToTensor())\n",
    "    Transform = T.Compose(Transform)\n",
    "\n",
    "    image = Transform(image_src)\n",
    "\n",
    "    Norm_ = T.Normalize((0.5, 0.5, 0.5), (0.5, 0.5, 0.5))   \n",
    "    image = Norm_(image)\n",
    "\n",
    "    image = image.unsqueeze(0).to('cuda')\n",
    "\n",
    "    pred = F.sigmoid(net(image))\n",
    "    pred = pred.squeeze(0).detach().cpu()\n",
    "    GT = torch.tensor(np.array(image_gt), dtype=torch.int64)\n",
    "    #print('before', np.unique(GT), GT.shape)\n",
    "    GT = torch.nn.functional.one_hot(GT, n_classes).to(torch.float).permute(2,0,1)\n",
    "    print(f'Dice score {get_DC(pred, GT)}')\n",
    "    pred = np.argmax(pred, axis=0)\n",
    "    \n",
    "    for i in range(n_classes):\n",
    "        print(pred.shape)\n",
    "        print((pred==i).shape)\n",
    "        mask = pred[pred==i]\n",
    "        print(mask.shape)\n",
    "        plt.imshow((pred==i))\n",
    "        plt.show()\n",
    "        \n",
    "    \n",
    "    fig, (ax1, ax2, ax3) = plt.subplots(1, 3)\n",
    "    fig.tight_layout()\n",
    "    #print(image.shape)\n",
    "    im1 = ax1.imshow(image_src)\n",
    "    ax1.set_axis_off()\n",
    "\n",
    "    im2 = ax2.imshow(image_gt)\n",
    "    fig.colorbar(im2, ax=ax2, fraction=0.046)\n",
    "    ax2.set_axis_off()\n",
    "\n",
    "    im3 = ax3.imshow(pred)\n",
    "    ax3.set_axis_off()\n",
    "    fig.colorbar(im3, ax=ax3, fraction=0.046)\n",
    "    plt.show()\n",
    "    break"
   ]
  },
  {
   "cell_type": "code",
   "execution_count": 124,
   "metadata": {},
   "outputs": [
    {
     "name": "stdout",
     "output_type": "stream",
     "text": [
      "tensor([[3, 3, 2, 4, 0, 1, 4],\n",
      "        [4, 4, 4, 1, 1, 3, 1],\n",
      "        [3, 3, 1, 1, 4, 3, 4],\n",
      "        [2, 3, 4, 3, 4, 2, 3]])\n",
      "torch.Size([4, 7, 5])\n",
      "tensor([[3, 3, 2, 4, 0, 1, 4],\n",
      "        [4, 4, 4, 1, 1, 3, 1],\n",
      "        [3, 3, 1, 1, 4, 3, 4],\n",
      "        [2, 3, 4, 3, 4, 2, 3]])\n"
     ]
    }
   ],
   "source": [
    "n = 5\n",
    "indices = torch.randint(0,n, size=(4,7))\n",
    "one_hot = torch.nn.functional.one_hot(indices, n) # size=(4,7,n)\n",
    "print(indices)\n",
    "print(one_hot.shape)\n",
    "print(np.argmax(one_hot, axis=2))"
   ]
  },
  {
   "cell_type": "code",
   "execution_count": null,
   "metadata": {},
   "outputs": [],
   "source": []
  }
 ],
 "metadata": {
  "kernelspec": {
   "display_name": "Python 3",
   "language": "python",
   "name": "python3"
  },
  "language_info": {
   "codemirror_mode": {
    "name": "ipython",
    "version": 3
   },
   "file_extension": ".py",
   "mimetype": "text/x-python",
   "name": "python",
   "nbconvert_exporter": "python",
   "pygments_lexer": "ipython3",
   "version": "3.6.9"
  }
 },
 "nbformat": 4,
 "nbformat_minor": 4
}
