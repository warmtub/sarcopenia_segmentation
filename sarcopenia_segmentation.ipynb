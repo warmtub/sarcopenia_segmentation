{
 "cells": [
  {
   "cell_type": "code",
   "execution_count": 14,
   "metadata": {},
   "outputs": [],
   "source": [
    "#pip install pydicom\n",
    "#pip uninstall -y enum34\n",
    "#pip install labelme==3.16.7\n",
    "import cv2\n",
    "import json\n",
    "import numpy as np\n",
    "import os\n",
    "import torch\n",
    "from Image_Segmentation.network import U_Net, AttU_Net\n",
    "from PIL import Image\n",
    "from pydicom import dcmread\n",
    "from torchvision import transforms as T"
   ]
  },
  {
   "cell_type": "code",
   "execution_count": 6,
   "metadata": {},
   "outputs": [
    {
     "name": "stdout",
     "output_type": "stream",
     "text": [
      "{0: '0. background', 1: '1. Rt psoas major mucle', 2: '2. Lt psoas major mucle', 3: '3. Rt quardratus lumborum muscle', 4: '4. Lt quardratus lumborum muscle', 5: '5. Rt eretor spinae muscle', 6: '6. Lt eretor spinae muscle', 7: '7. Rt trans abd,int and ext obl', 8: '8. Lt trans abd,int and ext obl', 9: '9. Rt rectus abdominus muscle', 10: '10. Lt rectus abdominus muscle', 11: '11.L3 Vertebral body'}\n",
      "loading segmentation model\n",
      "done\n"
     ]
    }
   ],
   "source": [
    "value_to_label_name = {}\n",
    "with open(\"classes.txt\") as f:\n",
    "    for index, line in enumerate(f):\n",
    "        value_to_label_name[index] = line[:-1]\n",
    "print(value_to_label_name)\n",
    "\n",
    "n_classes = len(value_to_label_name)\n",
    "print(\"loading segmentation model\")\n",
    "net = AttU_Net(img_ch=3, output_ch=n_classes).to('cuda')\n",
    "net.load_state_dict(torch.load('Image_Segmentation/models/AttU_Net-f4-490-0.923.pkl'))\n",
    "net.train(False)\n",
    "print(\"done\")\n",
    "\n",
    "empty_response = {  \"version\": \"4.5.6\",\n",
    "                    \"flags\": {},\n",
    "                    \"shapes\": [],\n",
    "                    \"imagePath\": \"\",\n",
    "                    \"imageData\": None,\n",
    "                    \"imageHeight\": 0,\n",
    "                    \"imageWidth\": 0,\n",
    "                    \"shapes\": [],\n",
    "                 }"
   ]
  },
  {
   "cell_type": "code",
   "execution_count": 17,
   "metadata": {},
   "outputs": [
    {
     "name": "stdout",
     "output_type": "stream",
     "text": [
      "source image SARCOPANIA0010.png saved\n",
      "predict json SARCOPANIA0010.json saved\n"
     ]
    }
   ],
   "source": [
    "dcm_file_name = 'sarcopenia_data/SARCOPANIA0010.dcm'\n",
    "file_name = dcm_file_name.split('.')[0].split('/')[-1]\n",
    "\n",
    "ds = dcmread(dcm_file_name)\n",
    "image = ds.pixel_array\n",
    "image_h, image_w = image.shape\n",
    "image = image.astype('float64')\n",
    "intercept = ds.RescaleIntercept\n",
    "wc = 50\n",
    "ww = 250\n",
    "UL = wc + ww/2\n",
    "LL = wc - ww/2\n",
    "slope = ds.RescaleSlope\n",
    "image -= (-intercept+LL)\n",
    "image[image<0] = 0\n",
    "image[image>(UL-LL)] = UL-LL\n",
    "image *= 255.0/image.max()\n",
    "image = image.astype('uint8')\n",
    "image = Image.fromarray(image)\n",
    "image_src = image.convert('RGB')\n",
    "image_src.save(file_name+'.png')\n",
    "print(f\"source image {file_name+'.png'} saved\")\n",
    "\n",
    "Transform = []\n",
    "Transform.append(T.ToTensor())\n",
    "Transform.append(T.Normalize((0.5, 0.5, 0.5), (0.5, 0.5, 0.5)))\n",
    "Transform = T.Compose(Transform)\n",
    "image = Transform(image_src)\n",
    "image = image.unsqueeze(0).to('cuda')\n",
    "\n",
    "pred = torch.sigmoid(net(image))\n",
    "pred = pred.squeeze(0).detach().cpu()\n",
    "pred = np.argmax(pred, axis=0)\n",
    "\n",
    "shapes = []\n",
    "for i in range(1, n_classes):\n",
    "    mask = pred[pred==i]\n",
    "    layer = np.array(pred==i, np.uint8)*255 \n",
    "    contours, _ = cv2.findContours(layer, cv2.RETR_TREE, cv2.CHAIN_APPROX_SIMPLE)\n",
    "    for contour in contours:\n",
    "        contour = cv2.approxPolyDP(contour, 3, True).reshape(-1, 2).tolist()\n",
    "        if len(contour) < 3: continue\n",
    "        shape_data = {\"label\": value_to_label_name[i],\n",
    "                      \"points\": contour,\n",
    "                      \"group_id\": None,\n",
    "                      \"shape_type\": \"polygon\",\n",
    "                      \"flags\": {},\n",
    "                     }\n",
    "        shapes.append(shape_data)\n",
    "    #plt.show()\n",
    "\n",
    "empty_response[\"version\"] = \"4.5.6\"\n",
    "empty_response[\"imagePath\"] = file_name+\".png\"\n",
    "empty_response[\"imageHeight\"] = image_h\n",
    "empty_response[\"imageWidth\"] = image_w\n",
    "empty_response[\"shapes\"] = shapes\n",
    "\n",
    "with open(file_name+'.json', 'w') as outfile:\n",
    "    json.dump(empty_response, outfile)\n",
    "print(f\"predict json {file_name+'.json'} saved\")"
   ]
  },
  {
   "cell_type": "code",
   "execution_count": null,
   "metadata": {},
   "outputs": [],
   "source": []
  }
 ],
 "metadata": {
  "kernelspec": {
   "display_name": "Python 3",
   "language": "python",
   "name": "python3"
  },
  "language_info": {
   "codemirror_mode": {
    "name": "ipython",
    "version": 3
   },
   "file_extension": ".py",
   "mimetype": "text/x-python",
   "name": "python",
   "nbconvert_exporter": "python",
   "pygments_lexer": "ipython3",
   "version": "3.6.9"
  }
 },
 "nbformat": 4,
 "nbformat_minor": 4
}
